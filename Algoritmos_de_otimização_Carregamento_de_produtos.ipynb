{
  "nbformat": 4,
  "nbformat_minor": 0,
  "metadata": {
    "colab": {
      "provenance": [],
      "include_colab_link": true
    },
    "kernelspec": {
      "name": "python3",
      "display_name": "Python 3"
    }
  },
  "cells": [
    {
      "cell_type": "markdown",
      "metadata": {
        "id": "view-in-github",
        "colab_type": "text"
      },
      "source": [
        "<a href=\"https://colab.research.google.com/github/caiogiffoni/ia-ml-guide/blob/main/Algoritmos_de_otimiza%C3%A7%C3%A3o_Carregamento_de_produtos.ipynb\" target=\"_parent\"><img src=\"https://colab.research.google.com/assets/colab-badge.svg\" alt=\"Open In Colab\"/></a>"
      ]
    },
    {
      "cell_type": "markdown",
      "metadata": {
        "id": "lmY8JVlQxXjj"
      },
      "source": [
        "# Algoritmos de otimização - Carregamento de produtos\n"
      ]
    },
    {
      "cell_type": "markdown",
      "metadata": {
        "id": "iA6XSNeifEB0"
      },
      "source": [
        "## Representação do problema"
      ]
    },
    {
      "cell_type": "code",
      "metadata": {
        "id": "tgkqEoRdxgfw",
        "colab": {
          "base_uri": "https://localhost:8080/"
        },
        "outputId": "99d080c7-6843-4d4f-abf7-c004d1f37871"
      },
      "source": [
        "produtos = [('Refrigerador A', 0.751, 999.90),\n",
        "            ('Celular', 0.0000899, 2911.12),\n",
        "            ('TV 55', 0.400, 4346.99),\n",
        "            ('TV 50', 0.290, 3999.90),\n",
        "            ('TV 42', 0.200, 2999.00),\n",
        "            ('Notebook A', 0.00350, 2499.90),\n",
        "            ('Ventilador', 0.496, 199.90),\n",
        "            ('Microondas A', 0.0424, 308.66),\n",
        "            ('Microondas B', 0.0544, 429.90),\n",
        "            ('Microondas C', 0.0319, 299.29),\n",
        "            ('Refrigerador B', 0.635, 849.00),\n",
        "            ('Refrigerador C', 0.870, 1199.89),\n",
        "            ('Notebook B', 0.498, 1999.90),\n",
        "            ('Notebook C', 0.527, 3999.00)]\n",
        "espaco = 3\n",
        "len(produtos)"
      ],
      "execution_count": 13,
      "outputs": [
        {
          "output_type": "execute_result",
          "data": {
            "text/plain": [
              "14"
            ]
          },
          "metadata": {},
          "execution_count": 13
        }
      ]
    },
    {
      "cell_type": "code",
      "metadata": {
        "id": "6YkrP_6zx2--",
        "colab": {
          "base_uri": "https://localhost:8080/"
        },
        "outputId": "5ed7a029-118e-4591-946a-04726f112468"
      },
      "source": [
        "produtos[5]"
      ],
      "execution_count": 3,
      "outputs": [
        {
          "output_type": "execute_result",
          "data": {
            "text/plain": [
              "('Notebook A', 0.0035, 2499.9)"
            ]
          },
          "metadata": {},
          "execution_count": 3
        }
      ]
    },
    {
      "cell_type": "code",
      "metadata": {
        "id": "NzPvuuaW1Wb2",
        "colab": {
          "base_uri": "https://localhost:8080/"
        },
        "outputId": "55984fd4-b84a-4b62-d766-ca9c58f35aad"
      },
      "source": [
        "carregamento = [0,1,1,1,1,1,0,1,1,1,0,1,1,1]\n",
        "len(carregamento)"
      ],
      "execution_count": 39,
      "outputs": [
        {
          "output_type": "execute_result",
          "data": {
            "text/plain": [
              "14"
            ]
          },
          "metadata": {},
          "execution_count": 39
        }
      ]
    },
    {
      "cell_type": "code",
      "metadata": {
        "id": "fZ3VCkNY2A5-"
      },
      "source": [
        "def imprimir_produtos(lista):\n",
        "  caminhao = []\n",
        "  total_preco = 0\n",
        "  for i in range(len(lista)):\n",
        "    if lista[i]:\n",
        "      print(produtos[i])\n",
        "      caminhao = [*caminhao, produtos[i]]\n",
        "  print(f'Valor de volume no carregamento: {round(sum([produto[1] for produto in caminhao]),2)} m3')\n",
        "  print(f'Valor total no carregamento: R${round(sum([produto[2] for produto in caminhao]),2)}')\n"
      ],
      "execution_count": 129,
      "outputs": []
    },
    {
      "cell_type": "code",
      "metadata": {
        "id": "zVPPuyby4IXF",
        "colab": {
          "base_uri": "https://localhost:8080/"
        },
        "outputId": "7048de7e-58fa-472e-9ef4-3aa5e8515e19"
      },
      "source": [
        "imprimir_produtos(carregamento)"
      ],
      "execution_count": 130,
      "outputs": [
        {
          "output_type": "stream",
          "name": "stdout",
          "text": [
            "('Celular', 8.99e-05, 2911.12)\n",
            "('TV 55', 0.4, 4346.99)\n",
            "('TV 50', 0.29, 3999.9)\n",
            "('TV 42', 0.2, 2999.0)\n",
            "('Notebook A', 0.0035, 2499.9)\n",
            "('Microondas A', 0.0424, 308.66)\n",
            "('Microondas B', 0.0544, 429.9)\n",
            "('Microondas C', 0.0319, 299.29)\n",
            "('Refrigerador C', 0.87, 1199.89)\n",
            "('Notebook B', 0.498, 1999.9)\n",
            "('Notebook C', 0.527, 3999.0)\n",
            "Valor de volume no carregamento: 2.92 m3\n",
            "Valor total no carregamento: R$24993.55\n"
          ]
        }
      ]
    },
    {
      "cell_type": "markdown",
      "metadata": {
        "id": "GqqEtILuYaj-"
      },
      "source": [
        "## Fitness function"
      ]
    },
    {
      "cell_type": "code",
      "metadata": {
        "id": "fH1uo4sm5dyK"
      },
      "source": [
        "def fitness_function(lista):\n",
        "  caminhao = []\n",
        "  for i in range(len(lista)):\n",
        "    vol = round(sum([produto[1] for produto in caminhao]),2)\n",
        "    caminhao = [*caminhao, produtos[i]] if lista[i] and vol + produtos[i][1] < 3 else [*caminhao]\n",
        "\n",
        "  return round(sum([produto[2] for produto in caminhao]),2)"
      ],
      "execution_count": 109,
      "outputs": []
    },
    {
      "cell_type": "code",
      "metadata": {
        "id": "OSaGBRB25_Xk",
        "colab": {
          "base_uri": "https://localhost:8080/"
        },
        "outputId": "3cc605ab-7035-4538-f12d-dcb3e92c8ad8"
      },
      "source": [
        "carregamento = [0,1,1,1,1,1,0,1,1,1,0,1,1,1]\n",
        "fitness_function(carregamento)"
      ],
      "execution_count": 110,
      "outputs": [
        {
          "output_type": "execute_result",
          "data": {
            "text/plain": [
              "24993.55"
            ]
          },
          "metadata": {},
          "execution_count": 110
        }
      ]
    },
    {
      "cell_type": "code",
      "metadata": {
        "id": "Bqmj2a3A8lSA",
        "colab": {
          "base_uri": "https://localhost:8080/"
        },
        "outputId": "7f73aae1-1987-4609-97d2-d2e49c7d5a16"
      },
      "source": [
        "!pip install -U scikit-learn\n",
        "!pip install mlrose"
      ],
      "execution_count": 56,
      "outputs": [
        {
          "output_type": "stream",
          "name": "stdout",
          "text": [
            "Looking in indexes: https://pypi.org/simple, https://us-python.pkg.dev/colab-wheels/public/simple/\n",
            "Requirement already satisfied: mlrose in /usr/local/lib/python3.10/dist-packages (1.3.0)\n",
            "Requirement already satisfied: numpy in /usr/local/lib/python3.10/dist-packages (from mlrose) (1.22.4)\n",
            "Requirement already satisfied: scipy in /usr/local/lib/python3.10/dist-packages (from mlrose) (1.10.1)\n",
            "Requirement already satisfied: sklearn in /usr/local/lib/python3.10/dist-packages (from mlrose) (0.0.post5)\n",
            "Looking in indexes: https://pypi.org/simple, https://us-python.pkg.dev/colab-wheels/public/simple/\n",
            "Requirement already satisfied: scikit-learn in /usr/local/lib/python3.10/dist-packages (1.2.2)\n",
            "Requirement already satisfied: numpy>=1.17.3 in /usr/local/lib/python3.10/dist-packages (from scikit-learn) (1.22.4)\n",
            "Requirement already satisfied: scipy>=1.3.2 in /usr/local/lib/python3.10/dist-packages (from scikit-learn) (1.10.1)\n",
            "Requirement already satisfied: joblib>=1.1.1 in /usr/local/lib/python3.10/dist-packages (from scikit-learn) (1.2.0)\n",
            "Requirement already satisfied: threadpoolctl>=2.0.0 in /usr/local/lib/python3.10/dist-packages (from scikit-learn) (3.1.0)\n"
          ]
        }
      ]
    },
    {
      "cell_type": "code",
      "metadata": {
        "id": "hleIBozb8toR"
      },
      "source": [
        "import six\n",
        "import sys\n",
        "sys.modules['sklearn.externals.six'] = six\n",
        "\n",
        "import mlrose"
      ],
      "execution_count": 118,
      "outputs": []
    },
    {
      "cell_type": "code",
      "metadata": {
        "id": "sgqWculR8yqo"
      },
      "source": [
        "fitness = mlrose.CustomFitness(fitness_function)"
      ],
      "execution_count": 111,
      "outputs": []
    },
    {
      "cell_type": "code",
      "metadata": {
        "id": "HWQKJU3w9DGr"
      },
      "source": [
        "problem = mlrose.DiscreteOpt(length=14, fitness_fn=fitness)"
      ],
      "execution_count": 112,
      "outputs": []
    },
    {
      "cell_type": "markdown",
      "metadata": {
        "id": "pMo4HJcsnGVT"
      },
      "source": [
        "## Hill climb"
      ]
    },
    {
      "cell_type": "code",
      "metadata": {
        "id": "wrWp0PbxFY2a",
        "colab": {
          "base_uri": "https://localhost:8080/"
        },
        "outputId": "261b02c8-5658-435c-eca0-a5dead46df37"
      },
      "source": [
        "best_state, best_fitness = mlrose.hill_climb(problem, random_state = 1)\n",
        "best_state, best_fitness"
      ],
      "execution_count": 143,
      "outputs": [
        {
          "output_type": "execute_result",
          "data": {
            "text/plain": [
              "(array([0, 1, 1, 1, 1, 1, 1, 1, 1, 1, 0, 1, 0, 1]), 23193.55)"
            ]
          },
          "metadata": {},
          "execution_count": 143
        }
      ]
    },
    {
      "cell_type": "code",
      "metadata": {
        "id": "cFm4OyLPGXgp",
        "colab": {
          "base_uri": "https://localhost:8080/"
        },
        "outputId": "5b81de43-b033-4214-ca9d-bb8b428ab01c"
      },
      "source": [
        "imprimir_produtos(best_state)"
      ],
      "execution_count": 144,
      "outputs": [
        {
          "output_type": "stream",
          "name": "stdout",
          "text": [
            "('Celular', 8.99e-05, 2911.12)\n",
            "('TV 55', 0.4, 4346.99)\n",
            "('TV 50', 0.29, 3999.9)\n",
            "('TV 42', 0.2, 2999.0)\n",
            "('Notebook A', 0.0035, 2499.9)\n",
            "('Ventilador', 0.496, 199.9)\n",
            "('Microondas A', 0.0424, 308.66)\n",
            "('Microondas B', 0.0544, 429.9)\n",
            "('Microondas C', 0.0319, 299.29)\n",
            "('Refrigerador C', 0.87, 1199.89)\n",
            "('Notebook C', 0.527, 3999.0)\n",
            "Valor de volume no carregamento: 2.92 m3\n",
            "Valor total no carregamento: R$23193.55\n"
          ]
        }
      ]
    },
    {
      "cell_type": "markdown",
      "metadata": {
        "id": "mgHnSkdacDEp"
      },
      "source": [
        "## Simulated annealing"
      ]
    },
    {
      "cell_type": "code",
      "metadata": {
        "id": "TM9bez7II2V3",
        "colab": {
          "base_uri": "https://localhost:8080/"
        },
        "outputId": "82e5608c-643a-4e28-ad44-7e60005962de"
      },
      "source": [
        "best_state, best_fitness = mlrose.simulated_annealing(problem,\n",
        "                                                          schedule=mlrose.GeomDecay(init_temp=10000),\n",
        "                                                          random_state=1)\n",
        "best_state, best_fitness"
      ],
      "execution_count": 164,
      "outputs": [
        {
          "output_type": "execute_result",
          "data": {
            "text/plain": [
              "(array([0, 1, 1, 1, 1, 1, 0, 0, 0, 0, 0, 1, 1, 1]), 23955.7)"
            ]
          },
          "metadata": {},
          "execution_count": 164
        }
      ]
    },
    {
      "cell_type": "code",
      "metadata": {
        "id": "zfhQV3U_K0nH",
        "colab": {
          "base_uri": "https://localhost:8080/"
        },
        "outputId": "a58ad270-e734-4696-d306-9dea82cf6887"
      },
      "source": [
        "imprimir_produtos(best_state)"
      ],
      "execution_count": 165,
      "outputs": [
        {
          "output_type": "stream",
          "name": "stdout",
          "text": [
            "('Celular', 8.99e-05, 2911.12)\n",
            "('TV 55', 0.4, 4346.99)\n",
            "('TV 50', 0.29, 3999.9)\n",
            "('TV 42', 0.2, 2999.0)\n",
            "('Notebook A', 0.0035, 2499.9)\n",
            "('Refrigerador C', 0.87, 1199.89)\n",
            "('Notebook B', 0.498, 1999.9)\n",
            "('Notebook C', 0.527, 3999.0)\n",
            "Valor de volume no carregamento: 2.79 m3\n",
            "Valor total no carregamento: R$23955.7\n"
          ]
        }
      ]
    },
    {
      "cell_type": "markdown",
      "metadata": {
        "id": "Zt7GvTvc1dnQ"
      },
      "source": [
        "## Algoritmo genético"
      ]
    },
    {
      "cell_type": "code",
      "metadata": {
        "id": "tYlwF-n2XtMm",
        "colab": {
          "base_uri": "https://localhost:8080/"
        },
        "outputId": "2406941c-a430-44f2-b878-425aa59a2207"
      },
      "source": [
        "best_state, best_fitness = mlrose.genetic_alg(problem, pop_size=500, mutation_prob=0.2,\n",
        "                                                  random_state=1)\n",
        "best_state, best_fitness"
      ],
      "execution_count": 170,
      "outputs": [
        {
          "output_type": "execute_result",
          "data": {
            "text/plain": [
              "(array([1, 1, 1, 1, 1, 1, 0, 1, 1, 1, 0, 0, 1, 1]), 24793.56)"
            ]
          },
          "metadata": {},
          "execution_count": 170
        }
      ]
    },
    {
      "cell_type": "code",
      "metadata": {
        "id": "7Vfden9jYn1j",
        "colab": {
          "base_uri": "https://localhost:8080/"
        },
        "outputId": "bb23de40-dd0d-493f-c13c-349a80967deb"
      },
      "source": [
        "imprimir_produtos(best_state)"
      ],
      "execution_count": 171,
      "outputs": [
        {
          "output_type": "stream",
          "name": "stdout",
          "text": [
            "('Refrigerador A', 0.751, 999.9)\n",
            "('Celular', 8.99e-05, 2911.12)\n",
            "('TV 55', 0.4, 4346.99)\n",
            "('TV 50', 0.29, 3999.9)\n",
            "('TV 42', 0.2, 2999.0)\n",
            "('Notebook A', 0.0035, 2499.9)\n",
            "('Microondas A', 0.0424, 308.66)\n",
            "('Microondas B', 0.0544, 429.9)\n",
            "('Microondas C', 0.0319, 299.29)\n",
            "('Notebook B', 0.498, 1999.9)\n",
            "('Notebook C', 0.527, 3999.0)\n",
            "Valor de volume no carregamento: 2.8 m3\n",
            "Valor total no carregamento: R$24793.56\n"
          ]
        }
      ]
    }
  ]
}