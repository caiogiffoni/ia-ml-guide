{
  "nbformat": 4,
  "nbformat_minor": 0,
  "metadata": {
    "colab": {
      "provenance": [],
      "toc_visible": true,
      "authorship_tag": "ABX9TyNXtT7h9rdCl0BJsAoWVPO4",
      "include_colab_link": true
    },
    "kernelspec": {
      "name": "python3",
      "display_name": "Python 3"
    },
    "language_info": {
      "name": "python"
    }
  },
  "cells": [
    {
      "cell_type": "markdown",
      "metadata": {
        "id": "view-in-github",
        "colab_type": "text"
      },
      "source": [
        "<a href=\"https://colab.research.google.com/github/caiogiffoni/ia-ml-guide/blob/main/Busca_Gulosa.ipynb\" target=\"_parent\"><img src=\"https://colab.research.google.com/assets/colab-badge.svg\" alt=\"Open In Colab\"/></a>"
      ]
    },
    {
      "cell_type": "markdown",
      "metadata": {
        "id": "aIjre2EzLXB0"
      },
      "source": [
        "## Vetor ordenado"
      ]
    },
    {
      "cell_type": "code",
      "source": [
        "!pip install ipdb"
      ],
      "metadata": {
        "colab": {
          "base_uri": "https://localhost:8080/"
        },
        "id": "MP9G56ulSDwt",
        "outputId": "141283f9-1053-4d06-daeb-2fe67712f3d1"
      },
      "execution_count": null,
      "outputs": [
        {
          "output_type": "stream",
          "name": "stdout",
          "text": [
            "Looking in indexes: https://pypi.org/simple, https://us-python.pkg.dev/colab-wheels/public/simple/\n",
            "Requirement already satisfied: ipdb in /usr/local/lib/python3.10/dist-packages (0.13.13)\n",
            "Requirement already satisfied: ipython>=7.31.1 in /usr/local/lib/python3.10/dist-packages (from ipdb) (7.34.0)\n",
            "Requirement already satisfied: tomli in /usr/local/lib/python3.10/dist-packages (from ipdb) (2.0.1)\n",
            "Requirement already satisfied: decorator in /usr/local/lib/python3.10/dist-packages (from ipdb) (4.4.2)\n",
            "Requirement already satisfied: setuptools>=18.5 in /usr/local/lib/python3.10/dist-packages (from ipython>=7.31.1->ipdb) (67.7.2)\n",
            "Requirement already satisfied: jedi>=0.16 in /usr/local/lib/python3.10/dist-packages (from ipython>=7.31.1->ipdb) (0.18.2)\n",
            "Requirement already satisfied: pickleshare in /usr/local/lib/python3.10/dist-packages (from ipython>=7.31.1->ipdb) (0.7.5)\n",
            "Requirement already satisfied: traitlets>=4.2 in /usr/local/lib/python3.10/dist-packages (from ipython>=7.31.1->ipdb) (5.7.1)\n",
            "Requirement already satisfied: prompt-toolkit!=3.0.0,!=3.0.1,<3.1.0,>=2.0.0 in /usr/local/lib/python3.10/dist-packages (from ipython>=7.31.1->ipdb) (3.0.38)\n",
            "Requirement already satisfied: pygments in /usr/local/lib/python3.10/dist-packages (from ipython>=7.31.1->ipdb) (2.14.0)\n",
            "Requirement already satisfied: backcall in /usr/local/lib/python3.10/dist-packages (from ipython>=7.31.1->ipdb) (0.2.0)\n",
            "Requirement already satisfied: matplotlib-inline in /usr/local/lib/python3.10/dist-packages (from ipython>=7.31.1->ipdb) (0.1.6)\n",
            "Requirement already satisfied: pexpect>4.3 in /usr/local/lib/python3.10/dist-packages (from ipython>=7.31.1->ipdb) (4.8.0)\n",
            "Requirement already satisfied: parso<0.9.0,>=0.8.0 in /usr/local/lib/python3.10/dist-packages (from jedi>=0.16->ipython>=7.31.1->ipdb) (0.8.3)\n",
            "Requirement already satisfied: ptyprocess>=0.5 in /usr/local/lib/python3.10/dist-packages (from pexpect>4.3->ipython>=7.31.1->ipdb) (0.7.0)\n",
            "Requirement already satisfied: wcwidth in /usr/local/lib/python3.10/dist-packages (from prompt-toolkit!=3.0.0,!=3.0.1,<3.1.0,>=2.0.0->ipython>=7.31.1->ipdb) (0.2.6)\n"
          ]
        }
      ]
    },
    {
      "cell_type": "code",
      "metadata": {
        "id": "bHnGlmCQLYoH"
      },
      "source": [
        "import numpy as np\n",
        "import ipdb\n",
        "class VetorOrdenado:\n",
        "\n",
        "  def __init__(self, capacidade):\n",
        "    self.capacidade = capacidade\n",
        "    self.ultima_posicao = -1\n",
        "    # Mudança no tipo de dados\n",
        "    self.valores = np.empty(self.capacidade, dtype=object)\n",
        "\n",
        "  # Referência para o vértice e comparação com a distância para o objetivo\n",
        "  def insere(self, adjacente):\n",
        "    if self.ultima_posicao == self.capacidade - 1:\n",
        "      print('Capacidade máxima atingida')\n",
        "      return\n",
        "    posicao = 0\n",
        "    for i in range(self.ultima_posicao + 1):\n",
        "      posicao = i\n",
        "      if self.valores[i].vertice.distancia_objetivo > adjacente.vertice.distancia_objetivo:\n",
        "        break\n",
        "      if i == self.ultima_posicao:\n",
        "        posicao = i + 1\n",
        "    x = self.ultima_posicao\n",
        "    while x >= posicao:\n",
        "      self.valores[x + 1] = self.valores[x]\n",
        "      x -= 1\n",
        "    self.valores[posicao] = adjacente\n",
        "    self.ultima_posicao += 1\n",
        "\n",
        "  def imprime(self):\n",
        "    if self.ultima_posicao == -1:\n",
        "      print('O vetor está vazio')\n",
        "    else:\n",
        "      for i in range(self.ultima_posicao + 1):\n",
        "        print(i, ' - ', self.valores[i].vertice.rotulo, ' - ', self.valores[i].vertice.distancia_objetivo)"
      ],
      "execution_count": null,
      "outputs": []
    },
    {
      "cell_type": "markdown",
      "metadata": {
        "id": "PgOWgXWsNWEr"
      },
      "source": [
        "## Grafo"
      ]
    },
    {
      "cell_type": "code",
      "metadata": {
        "id": "37JdH3P_R-pL"
      },
      "source": [
        "class Vertice:\n",
        "\n",
        "  def __init__(self, rotulo, distancia_objetivo):\n",
        "    self.rotulo = rotulo\n",
        "    self.visitado = False\n",
        "    self.distancia_objetivo = distancia_objetivo\n",
        "    self.adjacentes = []\n",
        "\n",
        "  def adiciona_adjacente(self, adjacente):\n",
        "    self.adjacentes.append(adjacente)\n",
        "\n",
        "  def mostra_adjacentes(self):\n",
        "    for i in self.adjacentes:\n",
        "      print(i.vertice.rotulo, i.custo)"
      ],
      "execution_count": null,
      "outputs": []
    },
    {
      "cell_type": "code",
      "metadata": {
        "id": "Hj4-etBV6eYP"
      },
      "source": [
        "class Adjacente:\n",
        "  def __init__(self, vertice, custo):\n",
        "    self.vertice = vertice\n",
        "    self.custo = custo"
      ],
      "execution_count": null,
      "outputs": []
    },
    {
      "cell_type": "code",
      "metadata": {
        "id": "42axhC-b6r-L"
      },
      "source": [
        "class Grafo:\n",
        "  portoUniao = Vertice(\"Porto União\", 203)\n",
        "  pauloFrontin = Vertice(\"Paulo Frontin\", 172)\n",
        "  canoinhas = Vertice(\"Canoinhas\", 141)\n",
        "  irati = Vertice(\"Irati\", 139)\n",
        "  palmeira = Vertice(\"Palmeira\", 59)\n",
        "  campoLargo = Vertice(\"Campo Largo\", 27)\n",
        "  curitiba = Vertice(\"Curitiba\", 0)\n",
        "  balsaNova = Vertice(\"Balsa Nova\", 41)\n",
        "  araucaria = Vertice(\"Araucária\", 23)\n",
        "  saoJose = Vertice(\"São José dos Pinhais\", 13)\n",
        "  contenda = Vertice(\"Contenda\", 39)\n",
        "  mafra = Vertice(\"Mafra\", 94)\n",
        "  tijucas = Vertice(\"Tijucas do Sul\", 56)\n",
        "  lapa = Vertice(\"Lapa\", 74)\n",
        "  saoMateus = Vertice(\"São Mateus do Sul\", 123)\n",
        "  tresBarras = Vertice(\"Três Barras\", 131)\n",
        "\n",
        "\n",
        "  portoUniao.adiciona_adjacente(Adjacente(pauloFrontin, 46))\n",
        "  portoUniao.adiciona_adjacente(Adjacente(canoinhas, 78))\n",
        "  portoUniao.adiciona_adjacente(Adjacente(saoMateus, 87))\n",
        "\n",
        "  pauloFrontin.adiciona_adjacente(Adjacente(portoUniao, 46))\n",
        "  pauloFrontin.adiciona_adjacente(Adjacente(irati, 75))\n",
        "\n",
        "  canoinhas.adiciona_adjacente(Adjacente(portoUniao, 78))\n",
        "  canoinhas.adiciona_adjacente(Adjacente(tresBarras, 12))\n",
        "  canoinhas.adiciona_adjacente(Adjacente(mafra, 66))\n",
        "\n",
        "  irati.adiciona_adjacente(Adjacente(pauloFrontin, 75))\n",
        "  irati.adiciona_adjacente(Adjacente(palmeira, 75))\n",
        "  irati.adiciona_adjacente(Adjacente(saoMateus, 57))\n",
        "\n",
        "  palmeira.adiciona_adjacente(Adjacente(irati, 75))\n",
        "  palmeira.adiciona_adjacente(Adjacente(saoMateus, 77))\n",
        "  palmeira.adiciona_adjacente(Adjacente(campoLargo, 55))\n",
        "\n",
        "  campoLargo.adiciona_adjacente(Adjacente(palmeira, 55))\n",
        "  campoLargo.adiciona_adjacente(Adjacente(balsaNova, 22))\n",
        "  campoLargo.adiciona_adjacente(Adjacente(curitiba, 29))\n",
        "\n",
        "  curitiba.adiciona_adjacente(Adjacente(campoLargo, 29))\n",
        "  curitiba.adiciona_adjacente(Adjacente(balsaNova, 51))\n",
        "  curitiba.adiciona_adjacente(Adjacente(araucaria, 37))\n",
        "  curitiba.adiciona_adjacente(Adjacente(saoJose, 15))\n",
        "\n",
        "  balsaNova.adiciona_adjacente(Adjacente(curitiba, 51))\n",
        "  balsaNova.adiciona_adjacente(Adjacente(campoLargo, 22))\n",
        "  balsaNova.adiciona_adjacente(Adjacente(contenda, 19))\n",
        "\n",
        "  araucaria.adiciona_adjacente(Adjacente(curitiba, 37))\n",
        "  araucaria.adiciona_adjacente(Adjacente(contenda, 18))\n",
        "\n",
        "  saoJose.adiciona_adjacente(Adjacente(curitiba, 15))\n",
        "  saoJose.adiciona_adjacente(Adjacente(tijucas, 49))\n",
        "\n",
        "  contenda.adiciona_adjacente(Adjacente(balsaNova, 19))\n",
        "  contenda.adiciona_adjacente(Adjacente(araucaria, 18))\n",
        "  contenda.adiciona_adjacente(Adjacente(lapa, 26))\n",
        "\n",
        "  mafra.adiciona_adjacente(Adjacente(tijucas, 99))\n",
        "  mafra.adiciona_adjacente(Adjacente(lapa, 57))\n",
        "  mafra.adiciona_adjacente(Adjacente(canoinhas, 66))\n",
        "\n",
        "  tijucas.adiciona_adjacente(Adjacente(mafra, 99))\n",
        "  tijucas.adiciona_adjacente(Adjacente(saoJose, 49))\n",
        "\n",
        "  lapa.adiciona_adjacente(Adjacente(contenda, 26))\n",
        "  lapa.adiciona_adjacente(Adjacente(saoMateus, 60))\n",
        "  lapa.adiciona_adjacente(Adjacente(mafra, 57))\n",
        "\n",
        "  saoMateus.adiciona_adjacente(Adjacente(palmeira, 77))\n",
        "  saoMateus.adiciona_adjacente(Adjacente(irati, 57))\n",
        "  saoMateus.adiciona_adjacente(Adjacente(lapa, 60))\n",
        "  saoMateus.adiciona_adjacente(Adjacente(tresBarras, 43))\n",
        "  saoMateus.adiciona_adjacente(Adjacente(portoUniao, 87))\n",
        "\n",
        "  tresBarras.adiciona_adjacente(Adjacente(saoMateus, 43))\n",
        "  tresBarras.adiciona_adjacente(Adjacente(canoinhas, 12))"
      ],
      "execution_count": null,
      "outputs": []
    },
    {
      "cell_type": "code",
      "metadata": {
        "id": "qBYjaInI-N4c"
      },
      "source": [
        "grafo = Grafo()"
      ],
      "execution_count": null,
      "outputs": []
    },
    {
      "cell_type": "code",
      "source": [
        "### busca"
      ],
      "metadata": {
        "id": "HjqfbYixxcGG"
      },
      "execution_count": null,
      "outputs": []
    },
    {
      "cell_type": "code",
      "source": [
        "class Busca:\n",
        "  def __init__(self, objetivo):\n",
        "    self.objetivo = objetivo\n",
        "    self.encontrado = False\n",
        "\n",
        "  def iniciar(self, atual):\n",
        "    # ipdb.set_trace()\n",
        "    print('-------')\n",
        "    print('Atual: {}'.format(atual.rotulo))\n",
        "    atual.visitado = True\n",
        "    if atual == self.objetivo:\n",
        "      self.encontrado = True\n",
        "      return 0\n",
        "    else:\n",
        "      vetor_ordenado = VetorOrdenado(len(atual.adjacentes))\n",
        "      for adjacente in atual.adjacentes:\n",
        "        if adjacente.vertice.visitado == False:\n",
        "          adjacente.vertice.visitado == True\n",
        "          vetor_ordenado.insere(adjacente)\n",
        "      vetor_ordenado.imprime()\n",
        "\n",
        "      if vetor_ordenado.valores[0] != None:\n",
        "        total = self.iniciar(vetor_ordenado.valores[0].vertice)\n",
        "        return total + vetor_ordenado.valores[0].custo"
      ],
      "metadata": {
        "id": "mNR_2c_RxspN"
      },
      "execution_count": null,
      "outputs": []
    },
    {
      "cell_type": "code",
      "source": [
        "busca = Busca(Grafo.curitiba)\n",
        "print(busca.iniciar(Grafo.portoUniao))"
      ],
      "metadata": {
        "colab": {
          "base_uri": "https://localhost:8080/"
        },
        "id": "IZh59t25yXyw",
        "outputId": "11884ebb-bf95-40bb-bb6b-08360bef262c"
      },
      "execution_count": null,
      "outputs": [
        {
          "output_type": "stream",
          "name": "stdout",
          "text": [
            "-------\n",
            "Atual: Porto União\n",
            "0  -  São Mateus do Sul  -  123\n",
            "1  -  Canoinhas  -  141\n",
            "2  -  Paulo Frontin  -  172\n",
            "-------\n",
            "Atual: São Mateus do Sul\n",
            "0  -  Palmeira  -  59\n",
            "1  -  Lapa  -  74\n",
            "2  -  Três Barras  -  131\n",
            "3  -  Irati  -  139\n",
            "-------\n",
            "Atual: Palmeira\n",
            "0  -  Campo Largo  -  27\n",
            "1  -  Irati  -  139\n",
            "-------\n",
            "Atual: Campo Largo\n",
            "0  -  Curitiba  -  0\n",
            "1  -  Balsa Nova  -  41\n",
            "-------\n",
            "Atual: Curitiba\n",
            "248\n"
          ]
        }
      ]
    }
  ]
}